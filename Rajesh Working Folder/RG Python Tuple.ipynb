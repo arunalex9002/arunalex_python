{
 "cells": [
  {
   "cell_type": "code",
   "execution_count": null,
   "metadata": {},
   "outputs": [],
   "source": [
    "#  A tuple is a collection which is ordered and unchangeable. In Python tuples are written with round brackets.\n",
    "# Write a Python program that takes mytuple = (\"WA\", \"CA\", \"NY\") and print the tuple using for loop.\n",
    "\n",
    "mytuple = ('WA', 'CA', 'NY')\n",
    "for eachitem in mytuple:\n",
    "    print eachitem\n"
   ]
  },
  {
   "cell_type": "code",
   "execution_count": null,
   "metadata": {},
   "outputs": [],
   "source": [
    "# Write a Python program that takes mytuple = (\"WA\", \"CA\", \"NY\") and print first item using index.\n",
    "\n",
    "mytuple = ('WA', 'CA', 'NY')\n",
    "print(mytuple[0])\n",
    "\n"
   ]
  },
  {
   "cell_type": "code",
   "execution_count": null,
   "metadata": {},
   "outputs": [],
   "source": [
    "# Write a Python program that takes mytuple = (\"WA\", \"CA\", \"NY\") and change first item = “NJ” and print.\n",
    "\n",
    "mytuple = ('WA', 'CA', 'NY')\n",
    "mytuple[0] = 'NJ'\n",
    "print(mytuple)\n"
   ]
  },
  {
   "cell_type": "code",
   "execution_count": null,
   "metadata": {},
   "outputs": [],
   "source": [
    "# Write a Python program that takes mytuple = (\"WA\", \"CA\", \"NY\") and check if “CA” exists and print.\n",
    "\n",
    "mytuple = ('WA', 'CA', 'NY')\n",
    "if \"CA\" in mytuple:\n",
    "    print('yes CA exists')\n"
   ]
  },
  {
   "cell_type": "code",
   "execution_count": 10,
   "metadata": {},
   "outputs": [
    {
     "name": "stdout",
     "output_type": "stream",
     "text": [
      "3\n"
     ]
    }
   ],
   "source": [
    "# Write a Python program that takes mytuple = (\"WA\", \"CA\", \"NY\") and print length of the tuple.\n",
    "\n",
    "mytuple = ('WA', 'CA', 'NY')\n",
    "print(len(mytuple))\n"
   ]
  },
  {
   "cell_type": "code",
   "execution_count": null,
   "metadata": {},
   "outputs": [],
   "source": [
    "help(tuple)"
   ]
  },
  {
   "cell_type": "code",
   "execution_count": null,
   "metadata": {},
   "outputs": [],
   "source": []
  }
 ],
 "metadata": {
  "kernelspec": {
   "display_name": "Python 2",
   "language": "python",
   "name": "python2"
  },
  "language_info": {
   "codemirror_mode": {
    "name": "ipython",
    "version": 2
   },
   "file_extension": ".py",
   "mimetype": "text/x-python",
   "name": "python",
   "nbconvert_exporter": "python",
   "pygments_lexer": "ipython2",
   "version": "2.7.15"
  }
 },
 "nbformat": 4,
 "nbformat_minor": 2
}
