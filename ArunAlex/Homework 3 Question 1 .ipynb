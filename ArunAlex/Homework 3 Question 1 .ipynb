{
 "cells": [
  {
   "cell_type": "code",
   "execution_count": 1,
   "metadata": {
    "collapsed": true
   },
   "outputs": [],
   "source": [
    "import heapq"
   ]
  },
  {
   "cell_type": "code",
   "execution_count": 53,
   "metadata": {
    "collapsed": true
   },
   "outputs": [],
   "source": [
    "mydict = {'Bellevue': 'Microsoft', 'Seattle': 'Amazon', 'Everett':'Boeing'}"
   ]
  },
  {
   "cell_type": "code",
   "execution_count": 56,
   "metadata": {},
   "outputs": [
    {
     "name": "stdout",
     "output_type": "stream",
     "text": [
      "Microsoft Started in Bellevue\n",
      "Amazon Started in Seattle\n",
      "Boeing Started in Everett\n"
     ]
    }
   ],
   "source": [
    "for x in mydict:\n",
    "    print(mydict[x] + ' Started in ' + x)\n"
   ]
  },
  {
   "cell_type": "code",
   "execution_count": 63,
   "metadata": {},
   "outputs": [
    {
     "name": "stdout",
     "output_type": "stream",
     "text": [
      "Amazon Started in Seattle\n",
      "Boeing Started in Everett\n",
      "Microsoft Started in Bellevue\n"
     ]
    }
   ],
   "source": [
    "#Write a python script that can take mydict = {‘Bellevue’: ‘Microsoft’, ‘Seattle’: ‘Amazon’, ‘Everett’:’Boeing’} and sort (hint: sorted global function) the dictionary and print\n",
    "#Amazon started in Seattle\n",
    "#Boeing started in Everett\n",
    "#Microsoft started in Bellevue\n",
    "\n",
    "for x in sorted(mydict,reverse=True):\n",
    "    print(mydict[x] + ' Started in ' + x)\n",
    "\n"
   ]
  },
  {
   "cell_type": "code",
   "execution_count": 62,
   "metadata": {},
   "outputs": [
    {
     "name": "stdout",
     "output_type": "stream",
     "text": [
      "Help on built-in function sorted in module builtins:\n",
      "\n",
      "sorted(iterable, /, *, key=None, reverse=False)\n",
      "    Return a new list containing all items from the iterable in ascending order.\n",
      "    \n",
      "    A custom key function can be supplied to customize the sort order, and the\n",
      "    reverse flag can be set to request the result in descending order.\n",
      "\n"
     ]
    }
   ],
   "source": [
    "help(sorted)"
   ]
  },
  {
   "cell_type": "code",
   "execution_count": 86,
   "metadata": {},
   "outputs": [
    {
     "name": "stdout",
     "output_type": "stream",
     "text": [
      "{'House1': 7000}\n",
      "{'House1': 7000, 'House2': 9000}\n",
      "{'House1': 7000, 'House2': 9000, 'House3': 13000}\n"
     ]
    }
   ],
   "source": [
    "#Write a python script that can take mydict1 = {‘House1’: 1000, ‘House2’: 3000, ‘House3’: 5000} and mydict2 = {‘House1’: 6000, ‘House3’: 8000, ‘House2’: 6000} and to combine two dictionary adding values for common keys.\n",
    "#Output should be mydict3={‘House1’: 7000, ‘House2’: 9000, ‘House3’: 13000}\n",
    "mydict1 = {'House1': 1000, 'House2': 3000, 'House3': 5000}\n",
    "mydict2 = {'House1': 6000, 'House3': 8000, 'House2': 6000}\n",
    "mydict3 = {}\n",
    "for x in mydict1:\n",
    "   # print(x)\n",
    "   # print(mydict1[x])\n",
    "    if(x in mydict2):\n",
    "        mydict3.update({x: mydict1[x] + mydict2[x]})\n",
    "        #print(x,\"=\",mydict2[x]+mydict1[x])\n",
    "        #print(x,\"=\",mydict3)\n",
    "        print(mydict3)\n",
    " \n"
   ]
  },
  {
   "cell_type": "code",
   "execution_count": 94,
   "metadata": {},
   "outputs": [
    {
     "name": "stdout",
     "output_type": "stream",
     "text": [
      "[13000, 9000]\n"
     ]
    }
   ],
   "source": [
    "#Write a python script that can take mydict={‘House1’: 7000, ‘House2’: 9000, ‘House3’: 13000} and print two largest values in the dictionary.\n",
    "#Hint: use nlargest function in heapq module\n",
    "import heapq\n",
    "mydict={'House1': 7000, 'House2': 9000, 'House3': 13000}\n",
    "print(heapq.nlargest(2,mydict.values()))"
   ]
  },
  {
   "cell_type": "code",
   "execution_count": 120,
   "metadata": {},
   "outputs": [
    {
     "name": "stdout",
     "output_type": "stream",
     "text": [
      "{1: 1}\n",
      "{1: 1, 2: 4}\n",
      "{1: 1, 2: 4, 3: 9}\n"
     ]
    }
   ],
   "source": [
    "#Write a python script that can take x = 3, using loops create three key and value pairs disctionary {1:1, 2:4, 3:6}.\n",
    "#If key = 1, value is 1+1, for 2 value is 2+2, etc.\n",
    "x=3\n",
    "z=1\n",
    "y={}\n",
    "while (x>=1):\n",
    "    y.update({z: z*z})\n",
    "    x = x-1\n",
    "    z = z+1\n",
    "    print(y)\n",
    "    \n"
   ]
  },
  {
   "cell_type": "code",
   "execution_count": 114,
   "metadata": {
    "scrolled": true
   },
   "outputs": [
    {
     "ename": "NameError",
     "evalue": "name 'true' is not defined",
     "output_type": "error",
     "traceback": [
      "\u001b[1;31m---------------------------------------------------------------------------\u001b[0m",
      "\u001b[1;31mNameError\u001b[0m                                 Traceback (most recent call last)",
      "\u001b[1;32m<ipython-input-114-dc2d843fd9e8>\u001b[0m in \u001b[0;36m<module>\u001b[1;34m()\u001b[0m\n\u001b[1;32m----> 1\u001b[1;33m \u001b[0msorted\u001b[0m\u001b[1;33m(\u001b[0m\u001b[0my\u001b[0m\u001b[1;33m,\u001b[0m\u001b[0mreverse\u001b[0m\u001b[1;33m=\u001b[0m\u001b[0mtrue\u001b[0m\u001b[1;33m)\u001b[0m\u001b[1;33m\u001b[0m\u001b[0m\n\u001b[0m",
      "\u001b[1;31mNameError\u001b[0m: name 'true' is not defined"
     ]
    }
   ],
   "source": [
    "sorted(y,reverse=true)"
   ]
  },
  {
   "cell_type": "code",
   "execution_count": 127,
   "metadata": {
    "collapsed": true
   },
   "outputs": [],
   "source": [
    "import math"
   ]
  },
  {
   "cell_type": "code",
   "execution_count": 128,
   "metadata": {},
   "outputs": [
    {
     "ename": "SyntaxError",
     "evalue": "invalid syntax (<ipython-input-128-71ff34d124e6>, line 9)",
     "output_type": "error",
     "traceback": [
      "\u001b[1;36m  File \u001b[1;32m\"<ipython-input-128-71ff34d124e6>\"\u001b[1;36m, line \u001b[1;32m9\u001b[0m\n\u001b[1;33m    y.update({z: pow(z*3})\u001b[0m\n\u001b[1;37m                        ^\u001b[0m\n\u001b[1;31mSyntaxError\u001b[0m\u001b[1;31m:\u001b[0m invalid syntax\n"
     ]
    }
   ],
   "source": [
    "#Write a python script that can take x = 3, using loops create key and value pairs disctionary {4:2, 9:3, 16:4}.\n",
    "#If key = 4, value sqrt(4) is 2, for 9 value is 3, etc.\n",
    "#Hint: use pow function in Math module\n",
    "\n",
    "x=3\n",
    "z=1\n",
    "y={}\n",
    "while (x>=1):\n",
    "    y.update({z: pow(z*3})\n",
    "    x = x-1\n",
    "    z = z+1\n",
    "    print(y)\n",
    "    \n",
    "\n"
   ]
  },
  {
   "cell_type": "code",
   "execution_count": 126,
   "metadata": {},
   "outputs": [
    {
     "name": "stdout",
     "output_type": "stream",
     "text": [
      "Help on built-in function pow in math:\n",
      "\n",
      "math.pow = pow(...)\n",
      "    pow(x, y)\n",
      "    \n",
      "    Return x**y (x to the power of y).\n",
      "\n"
     ]
    }
   ],
   "source": [
    "help('math.pow')\n"
   ]
  },
  {
   "cell_type": "code",
   "execution_count": 142,
   "metadata": {},
   "outputs": [
    {
     "name": "stdout",
     "output_type": "stream",
     "text": [
      "['washington']\n"
     ]
    }
   ],
   "source": [
    "#Create a function mystatenamelist  that can take string statename parameter and add to a list. \n",
    "#Call that function and add up to 5 states\n",
    "statelist = []\n",
    "def statefunction(statename):\n",
    "    statelist.append(statename)\n",
    "    \n",
    "    \n",
    "statefunction(\"washington\")\n",
    "print(statelist)\n"
   ]
  },
  {
   "cell_type": "code",
   "execution_count": 143,
   "metadata": {},
   "outputs": [
    {
     "name": "stdout",
     "output_type": "stream",
     "text": [
      "['washington']\n"
     ]
    }
   ],
   "source": [
    "mystatenamelist(\"california\")\n",
    "print(statelist)"
   ]
  },
  {
   "cell_type": "code",
   "execution_count": 15,
   "metadata": {},
   "outputs": [
    {
     "name": "stdout",
     "output_type": "stream",
     "text": [
      "{'WA': 'Washington', 'CA': 'California'}\n"
     ]
    }
   ],
   "source": [
    "#Create a function mystateinfodict that can take string statename and string statecode parameters and \n",
    "#add to a dictionary (key = statecode, value = statename) and add upto 5 states.\n",
    "statenamecode = {}\n",
    "def mystateinfodict(statename,statecode):\n",
    "    statenamecode.update({statecode: statename})\n",
    "    \n",
    "    \n",
    "mystateinfodict(\"Washington\",\"WA\")\n",
    "mystateinfodict(\"California\",\"CA\")\n",
    "print(statenamecode)\n"
   ]
  },
  {
   "cell_type": "code",
   "execution_count": 16,
   "metadata": {},
   "outputs": [
    {
     "data": {
      "text/plain": [
       "'Washington'"
      ]
     },
     "execution_count": 16,
     "metadata": {},
     "output_type": "execute_result"
    }
   ],
   "source": [
    "#Create a function findmystatename that can take statecode parameter\n",
    "#and return statename for the 5 states you created in problem 2.\n",
    "def findmystatename(statecode):\n",
    "    return statenamecode[statecode]\n",
    "    \n",
    "    \n",
    "findmystatename(\"WA\")\n",
    "    \n",
    "    \n",
    "\n"
   ]
  },
  {
   "cell_type": "code",
   "execution_count": 49,
   "metadata": {},
   "outputs": [
    {
     "ename": "AttributeError",
     "evalue": "'dict' object has no attribute 'd'",
     "output_type": "error",
     "traceback": [
      "\u001b[1;31m---------------------------------------------------------------------------\u001b[0m",
      "\u001b[1;31mAttributeError\u001b[0m                            Traceback (most recent call last)",
      "\u001b[1;32m<ipython-input-49-3c6907802139>\u001b[0m in \u001b[0;36m<module>\u001b[1;34m()\u001b[0m\n\u001b[0;32m      5\u001b[0m     \u001b[1;32mreturn\u001b[0m \u001b[0mstatenamecode\u001b[0m\u001b[1;33m[\u001b[0m\u001b[0mstatecode\u001b[0m\u001b[1;33m]\u001b[0m\u001b[1;33m\u001b[0m\u001b[0m\n\u001b[0;32m      6\u001b[0m \u001b[1;33m\u001b[0m\u001b[0m\n\u001b[1;32m----> 7\u001b[1;33m \u001b[0mstatenamecode\u001b[0m\u001b[1;33m.\u001b[0m\u001b[0md\u001b[0m\u001b[1;33m.\u001b[0m\u001b[0mpop\u001b[0m\u001b[1;33m(\u001b[0m\u001b[0mstatenamecode\u001b[0m\u001b[1;33m)\u001b[0m\u001b[1;33m\u001b[0m\u001b[0m\n\u001b[0m\u001b[0;32m      8\u001b[0m \u001b[1;33m\u001b[0m\u001b[0m\n\u001b[0;32m      9\u001b[0m \u001b[0mfindmystatename\u001b[0m\u001b[1;33m(\u001b[0m\u001b[1;34m\"WA\"\u001b[0m\u001b[1;33m)\u001b[0m\u001b[1;33m\u001b[0m\u001b[0m\n",
      "\u001b[1;31mAttributeError\u001b[0m: 'dict' object has no attribute 'd'"
     ]
    }
   ],
   "source": [
    "#Create a function delmystatename that can take statecode parameter and delete statename \n",
    "#if it exists in the list you created in problem 2.\n",
    "\n",
    "def findmystatename(statecode):\n",
    "    return statenamecode[statecode]\n",
    "\n",
    "statenamecode.d.pop(statenamecode)    \n",
    "    \n",
    "findmystatename(\"WA\")\n",
    "\n"
   ]
  },
  {
   "cell_type": "code",
   "execution_count": 29,
   "metadata": {},
   "outputs": [
    {
     "data": {
      "text/plain": [
       "55"
      ]
     },
     "execution_count": 29,
     "metadata": {},
     "output_type": "execute_result"
    }
   ],
   "source": [
    "#Write a Python function sumoflist that can take a list with all numbers and calculate the sum of a list of \n",
    "#numbers and returns it. Use recursive function, if possible.\n",
    "list=(1,2,3,4,5,6,7,8,9,10)\n",
    "def sumoflist(list):\n",
    "    return sum(list)\n",
    "\n",
    "sumoflist(list)\n",
    "\n"
   ]
  },
  {
   "cell_type": "code",
   "execution_count": 37,
   "metadata": {
    "collapsed": true
   },
   "outputs": [],
   "source": [
    "import math"
   ]
  },
  {
   "cell_type": "code",
   "execution_count": 44,
   "metadata": {},
   "outputs": [
    {
     "data": {
      "text/plain": [
       "3628800"
      ]
     },
     "execution_count": 44,
     "metadata": {},
     "output_type": "execute_result"
    }
   ],
   "source": [
    "#Write a python function myfactorial that takes n as parameter to calculate the factorial number and returns it.\n",
    "#Use recursive function, if possible.\n",
    "\n",
    "def myfactorial(x):\n",
    "    return math.factorial(x)\n",
    "\n",
    "myfactorial(10)"
   ]
  },
  {
   "cell_type": "code",
   "execution_count": 69,
   "metadata": {},
   "outputs": [
    {
     "name": "stdout",
     "output_type": "stream",
     "text": [
      "String: my NAmmmmmmmE is AruN\n",
      "Uppercount: 5\n",
      "Lowercount: 13\n"
     ]
    }
   ],
   "source": [
    "#Write a Python function that accepts a string parameter and calculate the number of upper case\n",
    "#letters and lower case letters and returns it.\n",
    "\n",
    "def upperlowercount(s):\n",
    "    d={\"upper\":0, \"lower\":0}\n",
    "    for c in s:\n",
    "        if c.isupper():\n",
    "           d[\"upper\"]+=1\n",
    "        elif c.islower():\n",
    "           d[\"lower\"]+=1\n",
    "        else:\n",
    "            pass\n",
    "    print(\"String:\",s)\n",
    "    print(\"Uppercount:\",d[\"upper\"])\n",
    "    print(\"Lowercount:\",d[\"lower\"])\n",
    "            \n",
    "upperlowercount('my NAmmmmmmmE is AruN')\n",
    "        \n"
   ]
  },
  {
   "cell_type": "code",
   "execution_count": 57,
   "metadata": {},
   "outputs": [
    {
     "name": "stdout",
     "output_type": "stream",
     "text": [
      "Help on method_descriptor in str:\n",
      "\n",
      "str.islower = islower(...)\n",
      "    S.islower() -> bool\n",
      "    \n",
      "    Return True if all cased characters in S are lowercase and there is\n",
      "    at least one cased character in S, False otherwise.\n",
      "\n"
     ]
    }
   ],
   "source": [
    "help('str.islower')"
   ]
  },
  {
   "cell_type": "code",
   "execution_count": 70,
   "metadata": {},
   "outputs": [
    {
     "ename": "SyntaxError",
     "evalue": "EOL while scanning string literal (<ipython-input-70-4aa0ca469dbc>, line 1)",
     "output_type": "error",
     "traceback": [
      "\u001b[1;36m  File \u001b[1;32m\"<ipython-input-70-4aa0ca469dbc>\"\u001b[1;36m, line \u001b[1;32m1\u001b[0m\n\u001b[1;33m    print('test'')\u001b[0m\n\u001b[1;37m                  ^\u001b[0m\n\u001b[1;31mSyntaxError\u001b[0m\u001b[1;31m:\u001b[0m EOL while scanning string literal\n"
     ]
    }
   ],
   "source": [
    "print('test'')"
   ]
  },
  {
   "cell_type": "code",
   "execution_count": 71,
   "metadata": {},
   "outputs": [
    {
     "ename": "ZeroDivisionError",
     "evalue": "division by zero",
     "output_type": "error",
     "traceback": [
      "\u001b[1;31m---------------------------------------------------------------------------\u001b[0m",
      "\u001b[1;31mZeroDivisionError\u001b[0m                         Traceback (most recent call last)",
      "\u001b[1;32m<ipython-input-71-0f9f90da76dc>\u001b[0m in \u001b[0;36m<module>\u001b[1;34m()\u001b[0m\n\u001b[1;32m----> 1\u001b[1;33m \u001b[0mprint\u001b[0m\u001b[1;33m(\u001b[0m\u001b[1;36m1\u001b[0m\u001b[1;33m/\u001b[0m\u001b[1;36m0\u001b[0m\u001b[1;33m)\u001b[0m\u001b[1;33m\u001b[0m\u001b[0m\n\u001b[0m",
      "\u001b[1;31mZeroDivisionError\u001b[0m: division by zero"
     ]
    }
   ],
   "source": [
    "print(1/0)"
   ]
  },
  {
   "cell_type": "code",
   "execution_count": null,
   "metadata": {
    "collapsed": true
   },
   "outputs": [],
   "source": []
  }
 ],
 "metadata": {
  "kernelspec": {
   "display_name": "Python 3",
   "language": "python",
   "name": "python3"
  },
  "language_info": {
   "codemirror_mode": {
    "name": "ipython",
    "version": 3
   },
   "file_extension": ".py",
   "mimetype": "text/x-python",
   "name": "python",
   "nbconvert_exporter": "python",
   "pygments_lexer": "ipython3",
   "version": "3.6.1"
  }
 },
 "nbformat": 4,
 "nbformat_minor": 2
}
